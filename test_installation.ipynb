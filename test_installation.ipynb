{
 "cells": [
  {
   "cell_type": "markdown",
   "metadata": {},
   "source": [
    "# Test if installation was successful"
   ]
  },
  {
   "cell_type": "code",
   "execution_count": null,
   "metadata": {},
   "outputs": [],
   "source": [
    "# check versions of the libraries\n",
    "# they should not be too much behind the ones in the comments...\n",
    "import numpy\n",
    "print(\"numpy\", numpy.__version__)        # >= 1.22.3\n",
    "import matplotlib\n",
    "print(\"matplotlib\", matplotlib.__version__)  # >= 3.5.1\n",
    "import pandas\n",
    "print(\"pandas\", pandas.__version__)      # >= 1.4.2\n",
    "import scipy\n",
    "print(\"scipy\", scipy.__version__)        # >= 1.8.0\n",
    "import sklearn\n",
    "print(\"sklearn\", sklearn.__version__)    # >= 1.2.0\n",
    "import joblib\n",
    "print(\"joblib\", joblib.__version__)    # >= 1.2.0\n",
    "import PIL\n",
    "print(\"pillow\", PIL.__version__)         # >= 9.1.0\n",
    "import plotly\n",
    "print(\"plotly\", plotly.__version__)      # >= 5.7.0\n",
    "import xlrd\n",
    "print(\"xlrd\", xlrd.__version__)          # >= 2.0.1\n",
    "import requests\n",
    "print(\"requests\", requests.__version__)  # >= 2.27.1\n",
    "import fastapi\n",
    "print(\"fastapi\", fastapi.__version__)    # >= 0.89.0\n",
    "print(\"Congratulations! Your installation of the basic libraries was successful!\")\n",
    "# the following libraries are needed for the neural network example \n",
    "# (if you're working with the recommended pytorch, not keras/tensorflow)\n",
    "# if you have a computer with a (CUDA-enabled Nvidia) GPU, checkout this site:\n",
    "# https://pytorch.org/get-started/locally/\n",
    "# to install the correct version that can utilize the capabilities of your GPU\n",
    "# (if you're working on a normal laptop and you don't know what GPU means,\n",
    "# don't worry about it and just execute `$ pip install torch torchvision skorch`)\n",
    "import torch\n",
    "print(\"torch\", torch.__version__)        # >= 1.12.1\n",
    "import torchvision\n",
    "print(\"torchvision\", torchvision.__version__)  # >= 0.13.1\n",
    "import skorch\n",
    "print(\"skorch\", skorch.__version__)      # >= 0.11.0\n",
    "print(\"Congratulations! Your installation of the neural network libraries was successful!\")"
   ]
  },
  {
   "cell_type": "code",
   "execution_count": null,
   "metadata": {},
   "outputs": [],
   "source": []
  }
 ],
 "metadata": {
  "kernelspec": {
   "display_name": "Python 3 (ipykernel)",
   "language": "python",
   "name": "python3"
  },
  "language_info": {
   "codemirror_mode": {
    "name": "ipython",
    "version": 3
   },
   "file_extension": ".py",
   "mimetype": "text/x-python",
   "name": "python",
   "nbconvert_exporter": "python",
   "pygments_lexer": "ipython3",
   "version": "3.12.9"
  }
 },
 "nbformat": 4,
 "nbformat_minor": 2
}
