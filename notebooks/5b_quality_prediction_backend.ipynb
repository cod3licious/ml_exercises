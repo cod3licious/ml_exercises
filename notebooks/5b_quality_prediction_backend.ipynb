{
 "cells": [
  {
   "cell_type": "markdown",
   "metadata": {},
   "source": [
    "# Case Study: Backend\n",
    "\n",
    "This notebook contains the backend code for the app. We first load the model you've trained (and saved as `\"strength_model.pkl\"`) in the previous notebook `a` and then make the predictions and optimize the cement's fineness.\n",
    "\n",
    "The fineness optimization relies on domain knowledge, namely that milling cement 1 micron finer results in a strength increase of 1 MPa.\n",
    "\n",
    "The backend is built using [FastAPI](https://fastapi.tiangolo.com/), a modern, fast (high-performance), web framework for building APIs with Python. Please note that normally this code would be run as a regular script, not in a notebook."
   ]
  },
  {
   "cell_type": "code",
   "execution_count": null,
   "metadata": {},
   "outputs": [],
   "source": [
    "import numpy as np\n",
    "import pandas as pd\n",
    "import joblib\n",
    "import nest_asyncio\n",
    "import uvicorn\n",
    "from fastapi import Body, FastAPI\n",
    "from pydantic import BaseModel, Field"
   ]
  },
  {
   "cell_type": "code",
   "execution_count": null,
   "metadata": {},
   "outputs": [],
   "source": [
    "# load your trained model - make sure it's saved under the right name!\n",
    "model = joblib.load(\"strength_model.pkl\")"
   ]
  },
  {
   "cell_type": "code",
   "execution_count": null,
   "metadata": {},
   "outputs": [],
   "source": [
    "# configure the host and port where the server will run\n",
    "# host depends on your setup -> \"127.0.0.1\" if running locally, \"0.0.0.0\" inside a docker container\n",
    "host = \"127.0.0.1\"\n",
    "port = 8000"
   ]
  },
  {
   "cell_type": "code",
   "execution_count": null,
   "metadata": {},
   "outputs": [],
   "source": [
    "# FastAPI app instance\n",
    "app = FastAPI()\n",
    "\n",
    "# pydantic model used for data validation\n",
    "class CementSample(BaseModel):\n",
    "    cement: str = Field(description=\"cement\")\n",
    "    fineness: float = Field(ge=0., le=60., description=\"fineness\")\n",
    "    material_1: float = Field(ge=-1., le=101., description=\"material_1\")\n",
    "    material_2: float = Field(ge=-1., le=101., description=\"material_2\")\n",
    "    material_3: float = Field(ge=-1., le=101., description=\"material_3\")\n",
    "    material_4: float = Field(ge=-1., le=101., description=\"material_4\")\n",
    "    material_5: float = Field(ge=-1., le=101., description=\"material_5\")\n",
    "    material_6: float = Field(ge=-1., le=101., description=\"material_6\")\n",
    "    material_7: float = Field(ge=-1., le=101., description=\"material_7\")\n",
    "    material_8: float = Field(ge=-1., le=101., description=\"material_8\")\n",
    "    material_9: float = Field(ge=-1., le=101., description=\"material_9\")\n",
    "    material_10: float = Field(ge=-1., le=101., description=\"material_10\")\n",
    "    material_11: float = Field(ge=-1., le=101., description=\"material_11\")\n",
    "    material_12: float = Field(ge=-1., le=101., description=\"material_12\")\n",
    "    material_13: float = Field(ge=-1., le=101., description=\"material_13\")\n",
    "    material_14: float = Field(ge=-1., le=101., description=\"material_14\")\n",
    "    material_15: float = Field(ge=-1., le=101., description=\"material_15\")\n",
    "    target_strength: float = Field(ge=0., le=100., description=\"Desired compressive strength in MPa\")\n",
    "\n",
    "# endpoint for the base URI, which can be queried with a GET request\n",
    "@app.get(\"/\")\n",
    "def home():\n",
    "    return \"Congratulations! Your API is working.\"\n",
    "\n",
    "# endpoint for /predict, which can be queried with a POST request to send the cement sample data\n",
    "@app.post(\"/predict\")\n",
    "def predict_and_optimize(cement_sample: CementSample):\n",
    "    target_strength = cement_sample.target_strength\n",
    "    # transform the given data into a pandas dataframe\n",
    "    cement_sample = cement_sample.model_dump()\n",
    "    # you can change the feature names here if your model uses fewer features\n",
    "    features = [\"fineness\"] + [f\"material_{i}\" for i in range(1, 16)]\n",
    "    x = pd.DataFrame({c: [cement_sample[c]] for c in features}, columns=features)\n",
    "    # predict strength with the current fineness\n",
    "    pred_org = model.predict(x)[0]\n",
    "    # fineness change: 1 micron finer = 1 MPa stronger\n",
    "    diff = target_strength - pred_org\n",
    "    fineness_new = cement_sample[\"fineness\"] - diff\n",
    "    # return the computed values as a JSON\n",
    "    return {\n",
    "        \"fineness_org\": cement_sample[\"fineness\"], \n",
    "        \"fineness_new\": fineness_new, \n",
    "        \"pred_org\": pred_org, \n",
    "        \"pred_new\": target_strength,\n",
    "    }"
   ]
  },
  {
   "cell_type": "markdown",
   "metadata": {},
   "source": [
    "By running the following cell you will spin up the server!\n",
    "\n",
    "This causes the notebook to block (no cells/code can run) until you manually interrupt the kernel. You can do this by clicking on the Kernel tab and then on Interrupt or by entering Jupyter's command mode by pressing the `ESC` key and tapping the `I` key twice."
   ]
  },
  {
   "cell_type": "code",
   "execution_count": null,
   "metadata": {},
   "outputs": [],
   "source": [
    "# allow the server to be run in this interactive environment\n",
    "nest_asyncio.apply()\n",
    "# spin up the server  \n",
    "uvicorn.run(app, host=host, port=port)"
   ]
  },
  {
   "cell_type": "code",
   "execution_count": null,
   "metadata": {},
   "outputs": [],
   "source": []
  }
 ],
 "metadata": {
  "kernelspec": {
   "display_name": "Python 3 (ipykernel)",
   "language": "python",
   "name": "python3"
  },
  "language_info": {
   "codemirror_mode": {
    "name": "ipython",
    "version": 3
   },
   "file_extension": ".py",
   "mimetype": "text/x-python",
   "name": "python",
   "nbconvert_exporter": "python",
   "pygments_lexer": "ipython3",
   "version": "3.12.9"
  }
 },
 "nbformat": 4,
 "nbformat_minor": 2
}
